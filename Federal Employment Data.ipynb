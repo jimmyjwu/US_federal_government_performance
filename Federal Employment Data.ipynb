{
 "cells": [
  {
   "cell_type": "code",
   "execution_count": 1,
   "metadata": {
    "collapsed": true,
    "run_control": {
     "marked": false
    }
   },
   "outputs": [],
   "source": [
    "import pandas as pd\n",
    "from collections import OrderedDict\n",
    "from collections import Counter\n",
    "import sys\n",
    "import os\n",
    "from glob import glob\n",
    "import sqlite3"
   ]
  },
  {
   "cell_type": "code",
   "execution_count": 2,
   "metadata": {
    "collapsed": true,
    "scrolled": true
   },
   "outputs": [],
   "source": [
    "paths_1973 = glob(\"../../../../../Documents/data/1973-09-to-2014-06/non-dod/status/*.txt\")\n",
    "paths_2014 = glob(\"../../../../../Documents/data/2014-09-to-2016-09/non-dod/status/*.txt\")\n",
    "paths_2016 = glob(\"../../../../../Documents/data/2016-12-to-2017-03/non-dod/status/*.txt\")"
   ]
  },
  {
   "cell_type": "code",
   "execution_count": 3,
   "metadata": {
    "code_folding": [],
    "collapsed": true
   },
   "outputs": [],
   "source": [
    "fwf_columns = OrderedDict([\n",
    "    ('Pseudo_ID', (0, 9)),\n",
    "    ('Name', (9, 32)),\n",
    "    ('File_Date', (32, 40)),\n",
    "    ('SubAgency', (40, 44)),\n",
    "    ('Duty_Station', (44, 53)),\n",
    "    ('Age_Range', (53, 59)),\n",
    "    ('Education_Level', (59, 61)),\n",
    "    ('Pay_Plan', (61, 63)),\n",
    "    ('Grade', (63, 65)),\n",
    "    ('LOS_Level', (65, 71)),\n",
    "    ('Occupation', (71, 75)),\n",
    "    ('PATCO', (75, 76)),\n",
    "    ('Adjusted_Basic_Pay', (76, 82)),\n",
    "    ('Supervisory_Status', (82, 83)),\n",
    "    ('TOA', (83, 85)),\n",
    "    ('Work_Schedule', (85, 86)),\n",
    "    ('NSFTP_Indicator', (86, 87))\n",
    "])"
   ]
  },
  {
   "cell_type": "code",
   "execution_count": 4,
   "metadata": {
    "collapsed": true,
    "run_control": {
     "marked": false
    }
   },
   "outputs": [],
   "source": [
    "cols_2014 = [\n",
    "    \"Last_Name\",\n",
    "    \"First_Name\",\n",
    "    \"File_Date\",\n",
    "    \"Agency\",\n",
    "    \"SubAgency\",\n",
    "    \"State\",\n",
    "    \"Age_Range\",\n",
    "    \"YSD_Range\",\n",
    "    \"Education_Level\",\n",
    "    \"Pay_Plan\",\n",
    "    \"Grade\",\n",
    "    \"LOS_Level\",\n",
    "    \"Occupation\",\n",
    "    \"PATCO\",\n",
    "    \"Adjusted_Basic_Pay\",\n",
    "    \"Supervisory_Status\",\n",
    "    \"TOA\",\n",
    "    \"Work_Schedule\",\n",
    "    \"NSFTP_Indicator\",\n",
    "]"
   ]
  },
  {
   "cell_type": "code",
   "execution_count": 5,
   "metadata": {
    "collapsed": true,
    "run_control": {
     "marked": false
    }
   },
   "outputs": [],
   "source": [
    "cols_2014 = [\n",
    "    \"Last_Name\",\n",
    "    \"First_Name\",\n",
    "    \"File_Date\",\n",
    "    \"Agency\",\n",
    "    \"SubAgency\",\n",
    "    \"State\",\n",
    "    \"Age_Range\",\n",
    "    \"YSD_Range\",\n",
    "    \"Education_Level\",\n",
    "    \"Pay_Plan\",\n",
    "    \"Grade\",\n",
    "    \"LOS_Level\",\n",
    "    \"Occupation\",\n",
    "    \"PATCO\",\n",
    "    \"Adjusted_Basic_Pay\",\n",
    "    \"Supervisory_Status\",\n",
    "    \"TOA\",\n",
    "    \"Work_Schedule\",\n",
    "    \"NSFTP_Indicator\",\n",
    "]"
   ]
  },
  {
   "cell_type": "code",
   "execution_count": 6,
   "metadata": {
    "collapsed": true
   },
   "outputs": [],
   "source": [
    "conn = sqlite3.connect(\"salaries.db\")\n",
    "cur = conn.cursor()"
   ]
  },
  {
   "cell_type": "code",
   "execution_count": 7,
   "metadata": {
    "collapsed": true
   },
   "outputs": [],
   "source": [
    "def process_fwf(path):\n",
    "    slices = fwf_columns.values()\n",
    "    occupations = set([\"1863\", \"0512\", \"1169\", \"1825\", \"2152\", \"2154\"])\n",
    "    with open(path) as f:\n",
    "        rows = []\n",
    "        for line in f:\n",
    "            row = [line[start:end].strip() for start, end in slices]\n",
    "            # Check if the occupation of the person follows what we want, and has a valid adjusted basic pay\n",
    "            if row[10] in occupations and row[12] not in [\"******\", \"\"]:\n",
    "                rows.append(row)\n",
    "        return pd.DataFrame(rows, columns=list(fwf_columns.keys()))\\\n",
    "    .drop_duplicates(subset=[\"Pseudo_ID\"])\\\n",
    "     .replace({\n",
    "         \"Age_Range\": {\"UNSP\": \"NA\", \" \": \"NA\", \"\": \"NA\"},\n",
    "         \"Education_Level\": {\"**\": \"NA\", \" \": \"NA\", \"\": \"NA\"},\n",
    "         \"Pay_Plan\": {\"**\": \"NA\", \" \": \"NA\", \"\": \"NA\"},\n",
    "         \"Grade\": {\"**\": \"NA\", \" \": \"NA\", \"\": \"NA\"},\n",
    "         \"Supervisory_Status\": {\"*\": \"NA\", \" \": \"NA\", \"\": \"NA\"},\n",
    "         \"TOA\": {\"**\": \"NA\", \" \": \"NA\", \"\": \"NA\"},\n",
    "         \"Work_Schedule\": {\"*\": \"NA\", \" \": \"NA\", \"\": \"NA\"}\n",
    "     })\\\n",
    "    .assign(**{\n",
    "        \"File_Date\": lambda x: x[\"File_Date\"].apply(lambda y: int(y[:-2])),\n",
    "         \"Adjusted_Basic_Pay\": lambda x: x[\"Adjusted_Basic_Pay\"].apply(lambda y: int(float(y))),\n",
    "         \"NSFTP_Indicator\": lambda x: x[\"NSFTP_Indicator\"].apply(lambda y: pd.to_numeric(y, errors=\"coerce\"))\n",
    "    })\\\n",
    "    .drop([\"Pseudo_ID\", \"Name\", \"Duty_Station\"], axis=1)\\\n",
    "    .replace({\n",
    "        \"Age_Range\": {\"65-69\": \"65+\", \"70-74\": \"65+\", \"75+\": \"65+\"},\n",
    "        \"LOS_Level\": {\"UNSP\": \"NA\"}\n",
    "    })"
   ]
  },
  {
   "cell_type": "code",
   "execution_count": 8,
   "metadata": {
    "scrolled": false
   },
   "outputs": [],
   "source": [
    "for path in paths_1973:\n",
    "    table_1973 = process_fwf(path)\n",
    "    table_1973.to_sql(name=\"data\", con=conn, if_exists=\"append\", index=False)"
   ]
  },
  {
   "cell_type": "code",
   "execution_count": 9,
   "metadata": {
    "collapsed": true,
    "run_control": {
     "marked": false
    }
   },
   "outputs": [],
   "source": [
    "table_2014 = pd.concat(\n",
    "    [pd.read_csv(\n",
    "        path,\n",
    "        sep=\"|\",\n",
    "        low_memory=False,\n",
    "        names=cols_2014\n",
    "    )\\\n",
    "     .assign(**{\n",
    "         \"SubAgency\": lambda x: x[\"SubAgency\"].apply(lambda y: y.split(\"-\")[0]),\n",
    "         \"LOS_Level\": lambda x: x[\"LOS_Level\"].apply(lambda y: y.replace(\" years\", \"\").replace(\" - \", \"-\")),\n",
    "         \"Occupation\": lambda x: x[\"Occupation\"].apply(lambda y: y.split(\"-\")[0])\n",
    "     })\\\n",
    "     .replace({\n",
    "         \"Education_Level\": {\"\": \"NA\", \"*\": \"NA\", \" \": \"NA\"}\n",
    "     })\\\n",
    "     .query(\"Occupation in ['1863', '0512', '1169', '1825', '2152', '2154'] and Adjusted_Basic_Pay != '.'\")\\\n",
    "     .assign(**{\n",
    "         \"File_Date\": lambda x: x[\"File_Date\"].apply(lambda y: pd.to_numeric(y)),\n",
    "         \"Adjusted_Basic_Pay\": lambda x: x[\"Adjusted_Basic_Pay\"].apply(lambda y: int(float(y))),\n",
    "         \"NSFTP_Indicator\": lambda x: x[\"NSFTP_Indicator\"].apply(lambda y: pd.to_numeric(y, errors=\"coerce\"))\n",
    "     })\\\n",
    "     .drop([\"Last_Name\", \"First_Name\", \"Agency\", \"State\", \"YSD_Range\"], axis=1)\\\n",
    "     .replace({\n",
    "         \"Age_Range\": {\"Less than 20\": \"15-19\", \"65 or more\": \"65+\"},\n",
    "         \"LOS_Level\": {\"35 or more\": \"35+\", \"Less than 1 year\": \"< 1\"}\n",
    "     }) \n",
    "     for path in paths_2014])\\\n",
    ".reset_index(drop=True)"
   ]
  },
  {
   "cell_type": "code",
   "execution_count": 10,
   "metadata": {
    "collapsed": true
   },
   "outputs": [],
   "source": [
    "table_2014.to_sql(name=\"data\", con=conn, if_exists=\"append\", index=False)"
   ]
  },
  {
   "cell_type": "code",
   "execution_count": 11,
   "metadata": {
    "collapsed": true,
    "run_control": {
     "marked": false
    },
    "scrolled": false
   },
   "outputs": [],
   "source": [
    "table_2016 = pd.concat(\n",
    "    [pd.read_csv(path, \n",
    "                 sep=\";\", \n",
    "                 low_memory=False,\n",
    "                 names=cols_2014\n",
    "                )\\\n",
    "     .assign(**{\n",
    "         \"SubAgency\": lambda x: x[\"SubAgency\"].apply(lambda y: y.split(\"-\")[0]),\n",
    "         \"YSD_Range\": lambda x: x[\"YSD_Range\"].apply(lambda y: y.replace(\" years\", \"\").replace(\" - \", \"-\")),\n",
    "         \"Education_Level\": lambda x: x[\"Education_Level\"].apply(lambda y: y.split(\"-\")[0]),\n",
    "         \"Pay_Plan\": lambda x: x[\"Pay_Plan\"].apply(lambda y: y.split(\"-\")[0]),\n",
    "         \"LOS_Level\": lambda x: x[\"LOS_Level\"].apply(lambda y: y.replace(\" years\", \"\").replace(\" - \", \"-\")),\n",
    "         \"Occupation\": lambda x: x[\"Occupation\"].apply(lambda y: y.split(\"-\")[0]),\n",
    "         \"Supervisory_Status\": lambda x: x[\"Supervisory_Status\"].apply(lambda y: y.split(\"-\")[0]),\n",
    "         \"TOA\": lambda x: x[\"TOA\"].apply(lambda y: y.split(\"-\")[0]),\n",
    "         \"Work_Schedule\": lambda x: x[\"Work_Schedule\"].apply(lambda y: y.split(\"-\")[0]),\n",
    "         \"NSFTP_Indicator\": lambda x: x[\"NSFTP_Indicator\"].apply(lambda y: y.split(\"-\")[0])\n",
    "     })\\\n",
    "     .replace({\n",
    "         \"Education_Level\": {\"\": \"NA\", \"*\": \"NA\"}\n",
    "     })\\\n",
    "     .query(\"Occupation in ['1863', '0512', '1169', '1825', '2152', '2154'] and Adjusted_Basic_Pay != '.'\")\\\n",
    "     .assign(**{\n",
    "         \"File_Date\": lambda x: x[\"File_Date\"].apply(lambda y: int(y)),\n",
    "         \"Adjusted_Basic_Pay\": lambda x: x[\"Adjusted_Basic_Pay\"].apply(lambda y: int(float(y))), \n",
    "         \"NSFTP_Indicator\": lambda x: x[\"NSFTP_Indicator\"].apply(lambda y: pd.to_numeric(y, errors=\"coerce\"))\n",
    "     })\\\n",
    "     .drop([\"Last_Name\", \"First_Name\", \"Agency\", \"State\", \"YSD_Range\"], axis=1)\\\n",
    "     .replace({\n",
    "         \"Age_Range\": {\"Less than 20\": \"15-19\", \"65 or more\": \"65+\"},\n",
    "         \"LOS_Level\": {\"35 or more\": \"35+\", \"Less than 1 year\": \"< 1\"}\n",
    "     }) \n",
    "     for path in paths_2016])\\\n",
    ".reset_index(drop=True)"
   ]
  },
  {
   "cell_type": "code",
   "execution_count": 12,
   "metadata": {
    "collapsed": true
   },
   "outputs": [],
   "source": [
    "table_2016.to_sql(name=\"data\", con=conn, if_exists=\"append\", index=False)"
   ]
  },
  {
   "cell_type": "code",
   "execution_count": 13,
   "metadata": {
    "collapsed": true
   },
   "outputs": [],
   "source": [
    "conn.commit()\n",
    "conn.close()"
   ]
  },
  {
   "cell_type": "code",
   "execution_count": null,
   "metadata": {
    "collapsed": true
   },
   "outputs": [],
   "source": []
  }
 ],
 "metadata": {
  "kernelspec": {
   "display_name": "Python 3",
   "language": "python",
   "name": "python3"
  },
  "varInspector": {
   "cols": {
    "lenName": 16,
    "lenType": 16,
    "lenVar": 40
   },
   "kernels_config": {
    "python": {
     "delete_cmd_postfix": "",
     "delete_cmd_prefix": "del ",
     "library": "var_list.py",
     "varRefreshCmd": "print(var_dic_list())"
    },
    "r": {
     "delete_cmd_postfix": ") ",
     "delete_cmd_prefix": "rm(",
     "library": "var_list.r",
     "varRefreshCmd": "cat(var_dic_list()) "
    }
   },
   "types_to_exclude": [
    "module",
    "function",
    "builtin_function_or_method",
    "instance",
    "_Feature"
   ],
   "window_display": false
  }
 },
 "nbformat": 4,
 "nbformat_minor": 2
}
