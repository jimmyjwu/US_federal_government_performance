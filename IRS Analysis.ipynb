{
 "cells": [
  {
   "cell_type": "code",
   "execution_count": 1,
   "metadata": {
    "collapsed": true,
    "run_control": {
     "marked": false
    }
   },
   "outputs": [],
   "source": [
    "import pandas as pd\n",
    "import numpy as np\n",
    "import sqlite3\n",
    "import matplotlib.pyplot as plt\n",
    "%matplotlib inline\n",
    "plt.rc(\"figure\", figsize=(12.0, 8.0))\n",
    "import seaborn as sns\n",
    "sns.set(color_codes=True)\n",
    "\n",
    "from sklearn import linear_model\n",
    "from sklearn.metrics import mean_squared_error, r2_score"
   ]
  },
  {
   "cell_type": "markdown",
   "metadata": {},
   "source": [
    "# Data Input"
   ]
  },
  {
   "cell_type": "code",
   "execution_count": 2,
   "metadata": {
    "collapsed": true
   },
   "outputs": [],
   "source": [
    "conn = sqlite3.connect(\"salaries.db\")\n",
    "columns = [\"File_Date\",\n",
    "           \"SubAgency\", \n",
    "           \"Age_Range\",\n",
    "           \"Education_Level\",\n",
    "           \"Pay_Plan\",\n",
    "           \"Grade\",\n",
    "           \"LOS_Level\",\n",
    "           \"Occupation\",\n",
    "           \"PATCO\",\n",
    "           \"Adjusted_Basic_Pay\",\n",
    "           \"Supervisory_Status\",\n",
    "           \"TOA\",\n",
    "           \"Work_Schedule\",\n",
    "           \"NSFTP_Indicator\"]"
   ]
  },
  {
   "cell_type": "code",
   "execution_count": 4,
   "metadata": {
    "scrolled": false
   },
   "outputs": [],
   "source": [
    "num_employees = pd.read_sql_query(\"\"\"\n",
    "SELECT \n",
    "    File_Date AS Date, \n",
    "    Occupation,\n",
    "    COUNT(*) AS Number_Employees \n",
    "FROM \n",
    "    (SELECT\n",
    "        File_Date,\n",
    "        REPLACE(Occupation, '1169', '0512') AS Occupation\n",
    "     FROM \n",
    "         data) sub\n",
    "WHERE\n",
    "    File_Date LIKE '%03'\n",
    "    AND Occupation IN ('0512')\n",
    "GROUP BY\n",
    "    File_Date,\n",
    "    Occupation\n",
    ";\"\"\", conn)\n",
    "num_employees[\"Date\"] = pd.to_datetime(num_employees[\"Date\"], format=\"%Y%m\")\n",
    "num_employees[\"Occupation\"] = num_employees[\"Occupation\"].map({\"0512\": \"Internal Revenue Service\"})"
   ]
  },
  {
   "cell_type": "code",
   "execution_count": 6,
   "metadata": {
    "collapsed": true
   },
   "outputs": [],
   "source": [
    "total_salaries = pd.read_sql_query(\"\"\"\n",
    "SELECT \n",
    "    File_Date AS Date, \n",
    "    REPLACE(Occupation, \"1169\", \"0512\") AS Occupation,\n",
    "    SUM(Adjusted_Basic_Pay) AS Total_Budget \n",
    "FROM \n",
    "    (SELECT\n",
    "        File_Date,\n",
    "        REPLACE(Occupation, '1169', '0512') AS Occupation,\n",
    "        Adjusted_Basic_Pay\n",
    "     FROM \n",
    "         data) sub\n",
    "WHERE\n",
    "    File_Date LIKE '%03'\n",
    "    AND Occupation IN ('0512')\n",
    "GROUP BY\n",
    "    File_Date, \n",
    "    Occupation\n",
    ";\"\"\", conn)\n",
    "total_salaries[\"Date\"] = pd.to_datetime(total_salaries[\"Date\"], format=\"%Y%m\")\n",
    "total_salaries[\"Occupation\"] = total_salaries[\"Occupation\"].map({\"0512\": \"Internal Revenue Service\"})"
   ]
  },
  {
   "cell_type": "code",
   "execution_count": 8,
   "metadata": {
    "collapsed": true
   },
   "outputs": [],
   "source": [
    "average_salaries = pd.read_sql_query(\"\"\"\n",
    "SELECT \n",
    "    File_Date AS Date, \n",
    "    Occupation,\n",
    "    AVG(Adjusted_Basic_Pay) AS Average_Salary\n",
    "FROM \n",
    "    (SELECT\n",
    "        File_Date,\n",
    "        REPLACE(Occupation, '1169', '0512') AS Occupation,\n",
    "        Adjusted_Basic_Pay\n",
    "     FROM \n",
    "         data) sub\n",
    "WHERE\n",
    "    File_Date LIKE '%03'\n",
    "    AND Occupation IN ('0512')\n",
    "GROUP BY\n",
    "    File_Date, \n",
    "    Occupation\n",
    ";\"\"\", conn)\n",
    "average_salaries[\"Date\"] = pd.to_datetime(average_salaries[\"Date\"], format=\"%Y%m\")\n",
    "average_salaries[\"Occupation\"] = average_salaries[\"Occupation\"].map({\"0512\": \"Internal Revenue Service\"})"
   ]
  },
  {
   "cell_type": "code",
   "execution_count": 12,
   "metadata": {
    "collapsed": true,
    "run_control": {
     "marked": false
    },
    "scrolled": false
   },
   "outputs": [],
   "source": [
    "IRS = pd.read_csv(\"IRS_data_summary.csv\", thousands=\",\").rename(columns={\"Audit Year\": \"Year\"})\n",
    "IRS.set_index(\"Year\", inplace=True)\n",
    "IRS.sort_index(inplace=True)\n",
    "IRS[\"Exam coverage\"] = (IRS[\"Individual returns examined (total)\"] / IRS[\"Individual returns filed\"])\n",
    "IRS[\"Corporate exam coverage\"] = (IRS[\"Corporate returns examined (total)\"] / IRS[\"Corporate returns filed\"])"
   ]
  },
  {
   "cell_type": "markdown",
   "metadata": {},
   "source": [
    "# IRS Performance Regressions\n",
    "\n",
    "Some helper code for fitting and plotting linear models:"
   ]
  },
  {
   "cell_type": "code",
   "execution_count": null,
   "metadata": {
    "collapsed": true
   },
   "outputs": [],
   "source": [
    "# IRS employee count each year from 1998-2016\n",
    "recent_IRS_employee_counts = num_employees[(num_employees[\"Date\"] > \"1998-01-01\") & (num_employees[\"Date\"] < \"2017-01-01\")][\"Number_Employees\"].as_matrix().reshape(-1, 1)\n",
    "\n",
    "\n",
    "def linear_regression(X, y, year_limit=None):\n",
    "    \"\"\"\n",
    "    Given n-dimensional vectors X and y, fits a least-squares linear model.\n",
    "    If year_limit is specified, the model uses only the last year_limit years of data.\n",
    "    \"\"\"\n",
    "    # Only use data from the past year_limit years\n",
    "    if year_limit:\n",
    "        X = X[-year_limit:]\n",
    "        y = y[-year_limit:]\n",
    "    \n",
    "    # Create linear regression model\n",
    "    model = linear_model.LinearRegression()\n",
    "\n",
    "    # Fit the model\n",
    "    model.fit(X, y)\n",
    "\n",
    "    # Make in-sample predictions\n",
    "    y_predicted = model.predict(X)\n",
    "\n",
    "    # Show parameters of the model\n",
    "    print('Slope:\\t\\t', model.coef_[0])\n",
    "    print('Intercept:\\t', model.intercept_)\n",
    "\n",
    "    # Mean squared error\n",
    "    print(\"Mean squared error:\\t%.2f\" % mean_squared_error(y, y_predicted))\n",
    "\n",
    "    # Explained variance score (1 is perfect prediction)\n",
    "    print('Variance/R^2 score:\\t%.2f' % r2_score(y, y_predicted))\n",
    "\n",
    "    # Plot data points and fitted line\n",
    "    plt.scatter(X, y, color='black')\n",
    "    plt.plot(X, y_predicted, color='blue', linewidth=3)"
   ]
  },
  {
   "cell_type": "markdown",
   "metadata": {},
   "source": [
    "### IRS Head Count vs. Exam Coverage"
   ]
  },
  {
   "cell_type": "code",
   "execution_count": 85,
   "metadata": {
    "scrolled": false
   },
   "outputs": [
    {
     "name": "stdout",
     "output_type": "stream",
     "text": [
      "Slope:\t\t 6.14238046937e-07\n",
      "Intercept:\t -0.00129864916056\n",
      "Mean squared error:\t0.00\n",
      "Variance/R^2 score:\t0.97\n"
     ]
    },
    {
     "data": {
      "image/png": "[encoded data removed]",
      "text/plain": [
       "<matplotlib.figure.Figure at 0x1a1d40c358>"
      ]
     },
     "metadata": {},
     "output_type": "display_data"
    }
   ],
   "source": [
    "# IRS employee count each year\n",
    "X = recent_IRS_employee_counts\n",
    "\n",
    "# Percent of returns audited each year\n",
    "y = IRS[\"Exam coverage\"].as_matrix()\n",
    "\n",
    "# Fit a linear model using only 2010-2016 data\n",
    "linear_regression(X, y, year_limit=7)"
   ]
  },
  {
   "cell_type": "markdown",
   "metadata": {},
   "source": [
    "### IRS Head Count vs. Recovered Taxes"
   ]
  },
  {
   "cell_type": "code",
   "execution_count": 83,
   "metadata": {},
   "outputs": [
    {
     "name": "stdout",
     "output_type": "stream",
     "text": [
      "Slope:\t\t 744.970871577\n",
      "Intercept:\t 284038.99284\n",
      "Mean squared error:\t567513822723.44\n",
      "Variance/R^2 score:\t0.84\n"
     ]
    },
    {
     "data": {
      "image/png": "[encoded data removed]",
      "text/plain": [
       "<matplotlib.figure.Figure at 0x1a1d041f28>"
      ]
     },
     "metadata": {},
     "output_type": "display_data"
    }
   ],
   "source": [
    "# IRS employee count each year\n",
    "X = recent_IRS_employee_counts\n",
    "\n",
    "# Tax dollars recovered each year\n",
    "y = IRS[\"Recommended additional tax (total)\"].as_matrix()\n",
    "\n",
    "# Fit a linear model using only 2010-2016 data\n",
    "linear_regression(X, y, year_limit=7)"
   ]
  },
  {
   "cell_type": "markdown",
   "metadata": {},
   "source": [
    "# Data Exploration"
   ]
  },
  {
   "cell_type": "code",
   "execution_count": 60,
   "metadata": {},
   "outputs": [
    {
     "data": {
      "text/plain": [
       "24    21668\n",
       "25    20778\n",
       "26    19864\n",
       "27    18676\n",
       "28    18462\n",
       "29    18135\n",
       "30    18170\n",
       "31    18448\n",
       "32    18557\n",
       "33    18851\n",
       "34    18557\n",
       "35    18293\n",
       "36    20646\n",
       "37    20051\n",
       "38    18626\n",
       "39    17464\n",
       "40    16369\n",
       "41    15274\n",
       "42    13923\n",
       "Name: Number_Employees, dtype: int64"
      ]
     },
     "execution_count": 60,
     "metadata": {},
     "output_type": "execute_result"
    }
   ],
   "source": [
    "num_employees[(num_employees[\"Date\"] > \"1998-01-01\") & (num_employees[\"Date\"] < \"2017-01-01\")][\"Number_Employees\"]"
   ]
  },
  {
   "cell_type": "code",
   "execution_count": 61,
   "metadata": {},
   "outputs": [
    {
     "data": {
      "text/plain": [
       "Year\n",
       "1998    0.009912\n",
       "1999    0.008978\n",
       "2000    0.005040\n",
       "2001    0.005757\n",
       "2002    0.005747\n",
       "2003    0.006516\n",
       "2004    0.007662\n",
       "2005    0.009183\n",
       "2006    0.009707\n",
       "2007    0.010291\n",
       "2008    0.010095\n",
       "2009    0.010262\n",
       "2010    0.011072\n",
       "2011    0.011110\n",
       "2012    0.010335\n",
       "2013    0.009635\n",
       "2014    0.008555\n",
       "2015    0.008362\n",
       "2016    0.006994\n",
       "Name: Exam coverage, dtype: float64"
      ]
     },
     "execution_count": 61,
     "metadata": {},
     "output_type": "execute_result"
    }
   ],
   "source": [
    "IRS[\"Exam coverage\"]"
   ]
  },
  {
   "cell_type": "code",
   "execution_count": 62,
   "metadata": {},
   "outputs": [
    {
     "data": {
      "text/plain": [
       "Year\n",
       "1998     6095698\n",
       "1999     4458474\n",
       "2000     3388905\n",
       "2001     3301860\n",
       "2002     3636486\n",
       "2003     4559902\n",
       "2004     6201693\n",
       "2005    13355087\n",
       "2006    13045221\n",
       "2007    15705155\n",
       "2008    12462770\n",
       "2009    14940892\n",
       "2010    15066486\n",
       "2011    14652239\n",
       "2012    15310908\n",
       "2013    14049657\n",
       "2014    11885411\n",
       "2015    12308319\n",
       "2016     9864674\n",
       "Name: Recommended additional tax (total), dtype: int64"
      ]
     },
     "execution_count": 62,
     "metadata": {},
     "output_type": "execute_result"
    }
   ],
   "source": [
    "IRS[\"Recommended additional tax (total)\"]"
   ]
  },
  {
   "cell_type": "code",
   "execution_count": 22,
   "metadata": {
    "collapsed": true
   },
   "outputs": [],
   "source": [
    "# conn.close()"
   ]
  }
 ],
 "metadata": {
  "kernelspec": {
   "display_name": "Python 3",
   "language": "python",
   "name": "python3"
  },
  "language_info": {
   "codemirror_mode": {
    "name": "ipython",
    "version": 3
   },
   "file_extension": ".py",
   "mimetype": "text/x-python",
   "name": "python",
   "nbconvert_exporter": "python",
   "pygments_lexer": "ipython3",
   "version": "3.6.2"
  },
  "varInspector": {
   "cols": {
    "lenName": 16,
    "lenType": 16,
    "lenVar": 40
   },
   "kernels_config": {
    "python": {
     "delete_cmd_postfix": "",
     "delete_cmd_prefix": "del ",
     "library": "var_list.py",
     "varRefreshCmd": "print(var_dic_list())"
    },
    "r": {
     "delete_cmd_postfix": ") ",
     "delete_cmd_prefix": "rm(",
     "library": "var_list.r",
     "varRefreshCmd": "cat(var_dic_list()) "
    }
   },
   "types_to_exclude": [
    "module",
    "function",
    "builtin_function_or_method",
    "instance",
    "_Feature"
   ],
   "window_display": false
  }
 },
 "nbformat": 4,
 "nbformat_minor": 2
}
