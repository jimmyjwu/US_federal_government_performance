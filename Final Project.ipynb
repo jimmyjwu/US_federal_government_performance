{
 "cells": [
  {
   "cell_type": "code",
   "execution_count": 1,
   "metadata": {
    "collapsed": true,
    "run_control": {
     "marked": false
    }
   },
   "outputs": [],
   "source": [
    "import pandas as pd\n",
    "import sqlite3"
   ]
  },
  {
   "cell_type": "code",
   "execution_count": null,
   "metadata": {
    "collapsed": true
   },
   "outputs": [],
   "source": [
    "conn = sqlite3.connect(\"salaries.db\")\n",
    "columns = [\"File_Date\",\n",
    "           \"SubAgency\", \n",
    "           \"Age_Range\",\n",
    "           \"Education_Level\",\n",
    "           \"Pay_Plan\",\n",
    "           \"Grade\",\n",
    "           \"LOS_Level\",\n",
    "           \"Occupation\",\n",
    "           \"PATCO\",\n",
    "           \"Adjusted_Basic_Pay\",\n",
    "           \"Supervisory_Status\",\n",
    "           \"TOA\",\n",
    "           \"Work_Schedule\",\n",
    "           \"NSFTP_Indicator\"]"
   ]
  },
  {
   "cell_type": "code",
   "execution_count": null,
   "metadata": {},
   "outputs": [],
   "source": [
    "pd.read_sql_query(\"\"\"\n",
    "SELECT \n",
    "    File_Date, \n",
    "    Occupation,\n",
    "    AVG(Adjusted_Basic_Pay) AS Average_Salary\n",
    "FROM \n",
    "    data \n",
    "GROUP BY\n",
    "    File_Date, \n",
    "    Occupation\n",
    ";\"\"\", conn)"
   ]
  },
  {
   "cell_type": "code",
   "execution_count": null,
   "metadata": {
    "collapsed": true
   },
   "outputs": [],
   "source": [
    "conn.close()"
   ]
  }
 ],
 "metadata": {
  "kernelspec": {
   "display_name": "Python 3",
   "language": "python",
   "name": "python3"
  },
  "language_info": {
   "codemirror_mode": {
    "name": "ipython",
    "version": 3
   },
   "file_extension": ".py",
   "mimetype": "text/x-python",
   "name": "python",
   "nbconvert_exporter": "python",
   "pygments_lexer": "ipython3",
   "version": "3.6.2"
  },
  "varInspector": {
   "cols": {
    "lenName": 16,
    "lenType": 16,
    "lenVar": 40
   },
   "kernels_config": {
    "python": {
     "delete_cmd_postfix": "",
     "delete_cmd_prefix": "del ",
     "library": "var_list.py",
     "varRefreshCmd": "print(var_dic_list())"
    },
    "r": {
     "delete_cmd_postfix": ") ",
     "delete_cmd_prefix": "rm(",
     "library": "var_list.r",
     "varRefreshCmd": "cat(var_dic_list()) "
    }
   },
   "types_to_exclude": [
    "module",
    "function",
    "builtin_function_or_method",
    "instance",
    "_Feature"
   ],
   "window_display": false
  }
 },
 "nbformat": 4,
 "nbformat_minor": 2
}
